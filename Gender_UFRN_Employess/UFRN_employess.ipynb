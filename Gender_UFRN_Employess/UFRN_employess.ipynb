{
 "cells": [
  {
   "cell_type": "code",
   "execution_count": 4,
   "metadata": {
    "collapsed": true
   },
   "outputs": [],
   "source": [
    "# import package\n",
    "from requests import get\n",
    "from time import sleep\n",
    "from random import randint\n",
    "from time import time\n",
    "from warnings import warn\n",
    "from IPython.core.display import clear_output\n",
    "from bs4 import BeautifulSoup\n",
    "import pandas as pd"
   ]
  },
  {
   "cell_type": "code",
   "execution_count": 5,
   "metadata": {},
   "outputs": [
    {
     "name": "stdout",
     "output_type": "stream",
     "text": [
      "Request:413; Frequency: 0.12137636919743934 requests/s\n",
      "http://www.portaldatransparencia.gov.br/servidores/OrgaoExercicio-ListaServidores.asp?CodOrg=26243&Pagina=413\n"
     ]
    }
   ],
   "source": [
    "# Lists to store the scraped data in\n",
    "names = []\n",
    "\n",
    "# Preparing the monitoring of the loop\n",
    "start_time = time()\n",
    "requests = 0\n",
    "\n",
    "pages = [str(i) for i in range(1,414)]\n",
    "\n",
    "# For each page\n",
    "for page in pages:\n",
    "    \n",
    "    #url \n",
    "    url = 'http://www.portaldatransparencia.gov.br/servidores/\\\n",
    "           OrgaoExercicio-ListaServidores.asp?CodOrg=26243&Pagina={}'.format(page).replace(\" \", \"\")\n",
    "    \n",
    "    # Make a get request\n",
    "    response = get(url)\n",
    "        \n",
    "    # Pause the loop\n",
    "    sleep(randint(5,10))\n",
    "    \n",
    "    # Monitor the requests\n",
    "    requests += 1\n",
    "    elapsed_time = time() - start_time\n",
    "    print('Request:{}; Frequency: {} requests/s'.format(requests, requests/elapsed_time))\n",
    "    print(url)\n",
    "    clear_output(wait = True)\n",
    "              \n",
    "    # Throw a warning for non-200 status codes\n",
    "    if response.status_code != 200:\n",
    "        warn('Request: {}; Status code: {}'.format(requests, response.status_code))\n",
    "              \n",
    "    # Break the loop if the number of requests is greater than expected\n",
    "    if requests > 413:\n",
    "        warn('Number of requests was greater than expected.')  \n",
    "        break \n",
    "        \n",
    "    html_soup = BeautifulSoup(response.text, 'html.parser')\n",
    "\n",
    "    # information about UFRN is within a table element\n",
    "    unit_table = html_soup.find_all('table')\n",
    "    \n",
    "    # the second one is the target\n",
    "    unit_rows  = unit_table[1].find_all('tr')\n",
    "    unit_rows = unit_rows[1:]\n",
    "    \n",
    "    # Extract data from individual ufrn rows\n",
    "    for row in unit_rows:\n",
    "    \n",
    "        # ufrn names\n",
    "        name = row.find('a').text\n",
    "        names.append(name)"
   ]
  },
  {
   "cell_type": "code",
   "execution_count": 6,
   "metadata": {},
   "outputs": [
    {
     "name": "stdout",
     "output_type": "stream",
     "text": [
      "<class 'pandas.core.frame.DataFrame'>\n",
      "RangeIndex: 6183 entries, 0 to 6182\n",
      "Data columns (total 1 columns):\n",
      "UFRN_employees    6183 non-null object\n",
      "dtypes: object(1)\n",
      "memory usage: 48.4+ KB\n",
      "None\n"
     ]
    }
   ],
   "source": [
    "# Let’s check the data collected so far. \n",
    "# Pandas makes it easy for us to see whether \n",
    "# we’ve scraped our data successfully.\n",
    "\n",
    "import pandas as pd\n",
    "\n",
    "web_scraping_df = pd.DataFrame({'UFRN_employees': names})\n",
    "print(web_scraping_df.info())\n",
    "web_scraping_df\n",
    "\n",
    "web_scraping_df.to_csv('UFRN_employees.csv')"
   ]
  }
 ],
 "metadata": {
  "kernelspec": {
   "display_name": "Python 3",
   "language": "python",
   "name": "python3"
  },
  "language_info": {
   "codemirror_mode": {
    "name": "ipython",
    "version": 3
   },
   "file_extension": ".py",
   "mimetype": "text/x-python",
   "name": "python",
   "nbconvert_exporter": "python",
   "pygments_lexer": "ipython3",
   "version": "3.6.2"
  }
 },
 "nbformat": 4,
 "nbformat_minor": 2
}
