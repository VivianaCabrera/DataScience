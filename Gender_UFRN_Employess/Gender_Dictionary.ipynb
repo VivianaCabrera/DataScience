{
 "cells": [
  {
   "cell_type": "code",
   "execution_count": 1,
   "metadata": {
    "scrolled": false
   },
   "outputs": [
    {
     "name": "stdout",
     "output_type": "stream",
     "text": [
      "Request:194; Frequency: 0.07931270601193811 requests/s\n"
     ]
    }
   ],
   "source": [
    "from requests import get\n",
    "import pandas as pd\n",
    "from bs4 import BeautifulSoup\n",
    "from IPython.core.display import clear_output\n",
    "from time import time\n",
    "from time import sleep\n",
    "from random import randint\n",
    "\n",
    "names_female=[]\n",
    "names_male = []\n",
    "\n",
    "gender = ['femininos', 'masculinos']\n",
    "\n",
    "for g in gender:\n",
    "    if g == 'femininos':\n",
    "        aux = 152\n",
    "    else: \n",
    "        aux = 194\n",
    "    pages = [str(i) for i in range(1,aux+1)]\n",
    "\n",
    "    start_time = time()\n",
    "    requests = 0\n",
    "\n",
    "    for page in pages:\n",
    "        # Make a get request\n",
    "        url = 'https://www.dicionariodenomesproprios.com.br/nomes-'+ g +'/{}/'.format(page)\n",
    "        response = get(url)\n",
    "\n",
    "        # Pause the loop\n",
    "        sleep(randint(8,15))\n",
    "\n",
    "        # Monitor the requests\n",
    "        requests += 1\n",
    "        elapsed_time = time() - start_time\n",
    "        print('Request:{}; Frequency: {} requests/s'.format(requests, requests/elapsed_time))\n",
    "        clear_output(wait = True)\n",
    "\n",
    "        # Throw a warning for non-200 status codes\n",
    "        if response.status_code != 200:\n",
    "            warn('Request: {}; Status code: {}'.format(requests, response.status_code))\n",
    "  \n",
    "        # Break the loop if the number of requests is greater than expected\n",
    "        if requests > len(pages):\n",
    "            warn('Number of requests was greater than expected.')  \n",
    "            break \n",
    "\n",
    "        # using BeautifulSoup\n",
    "        html_soup = BeautifulSoup(response.text, 'html.parser')\n",
    "\n",
    "        # nomes_containers = html_soup.find_all('ul', class_ = 'names-list')\n",
    "        nomes_containers = html_soup.find_all('div', class_ = 'col-xs-12 lista')\n",
    "        first=nomes_containers[0]\n",
    "\n",
    "        aa = first.find_all('li')\n",
    "\n",
    "        for li in aa:\n",
    "            bb = li.a.text\n",
    "            if g == 'femininos': \n",
    "                names_female.append(bb)\n",
    "            else:\n",
    "                names_male.append(bb)"
   ]
  },
  {
   "cell_type": "code",
   "execution_count": 2,
   "metadata": {
    "collapsed": true
   },
   "outputs": [],
   "source": [
    "names_dictionary = pd.concat([pd.DataFrame(names_male), pd.DataFrame(names_female)], ignore_index=True, axis=1)\n",
    "names_dictionary = names_dictionary.apply(lambda x: x.str.normalize('NFKD').str.encode('ascii', errors='ignore').str.decode('latin-1'))\n",
    "names_dictionary = names_dictionary.apply(lambda x: x.astype(str).str.lower())\n",
    "names_dictionary.columns = ['Male', 'Female']\n",
    "\n",
    "male = names_dictionary['Male'].dropna(axis=0)\n",
    "female = names_dictionary['Female'].dropna(axis=0)\n",
    "\n",
    "m1 = male.str.split().str[0].dropna(axis=0)\n",
    "m2 = male.str.split().str[1].dropna(axis=0)\n",
    "m3 = m1.append(m2).drop_duplicates()\n",
    "\n",
    "f1 = female.str.split().str[0].dropna(axis=0)\n",
    "f2 = female.str.split().str[1].dropna(axis=0)\n",
    "f3 = f1.append(f2).drop_duplicates()\n",
    "\n",
    "m = m3.to_frame().reset_index(drop=True)\n",
    "f = f3.to_frame().reset_index(drop=True)\n",
    "\n",
    "names_dictionary = pd.concat([m,f], ignore_index=True, axis=1).reset_index(drop=True)\n",
    "names_dictionary.columns = ['Male', 'Female']\n",
    "\n",
    "names_dictionary.to_csv(\"names_dictionary.csv\")"
   ]
  }
 ],
 "metadata": {
  "kernelspec": {
   "display_name": "Python 3",
   "language": "python",
   "name": "python3"
  },
  "language_info": {
   "codemirror_mode": {
    "name": "ipython",
    "version": 3
   },
   "file_extension": ".py",
   "mimetype": "text/x-python",
   "name": "python",
   "nbconvert_exporter": "python",
   "pygments_lexer": "ipython3",
   "version": "3.6.2"
  }
 },
 "nbformat": 4,
 "nbformat_minor": 2
}
